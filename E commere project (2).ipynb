{
 "cells": [
  {
   "cell_type": "markdown",
   "metadata": {
    "application/vnd.databricks.v1+cell": {
     "cellMetadata": {
      "byteLimit": 2048000,
      "rowLimit": 10000
     },
     "inputWidgets": {},
     "nuid": "583d2fe3-6c41-441a-9094-37833b19f095",
     "showTitle": false,
     "tableResultSettingsMap": {},
     "title": ""
    }
   },
   "source": [
    "### Customer Analytics for E-commerce Platform:"
   ]
  },
  {
   "cell_type": "markdown",
   "metadata": {
    "application/vnd.databricks.v1+cell": {
     "cellMetadata": {},
     "inputWidgets": {},
     "nuid": "b8302497-6d0c-4f4e-b1a4-e61564066bc0",
     "showTitle": false,
     "tableResultSettingsMap": {},
     "title": ""
    }
   },
   "source": [
    "##### Data Cleaning & Preprocessing:\n",
    "###### Handle missing values (impute or drop missing values).\n",
    "###### Convert timestamps and data types as needed.\n",
    "###### calculate the running total of orders\n",
    "###### Calculate key metrics like total order value per customer, average order size\n",
    "###### Filter data for customers who spent over a certain threshold >500 rs spent \n",
    "###### Perform transformations to identify the highest-value product category, or calculate the longest shipping delays by joining product and shipping data\n",
    "###### You could plot the distribution of customer spending or visualize the shipping delays for top products[Matplotlib/Seaborn to visualize trends]\n",
    " \n",
    "####Conclusion: \n",
    "###### Which product categories generate the most revenue\n",
    "###### What are the key characteristics of high-value customers.\n",
    "###### Average shipping times by product category."
   ]
  },
  {
   "cell_type": "markdown",
   "metadata": {
    "application/vnd.databricks.v1+cell": {
     "cellMetadata": {
      "byteLimit": 2048000,
      "rowLimit": 10000
     },
     "inputWidgets": {},
     "nuid": "dd66d959-a648-40f1-87ad-68e2c9302a24",
     "showTitle": false,
     "tableResultSettingsMap": {},
     "title": ""
    }
   },
   "source": [
    "#### Reading all the datasets from dbfs"
   ]
  },
  {
   "cell_type": "code",
   "execution_count": 0,
   "metadata": {
    "application/vnd.databricks.v1+cell": {
     "cellMetadata": {
      "byteLimit": 2048000,
      "rowLimit": 10000
     },
     "inputWidgets": {},
     "nuid": "8baa8629-815b-4130-a27a-d0ce1b9c0701",
     "showTitle": false,
     "tableResultSettingsMap": {},
     "title": ""
    }
   },
   "outputs": [],
   "source": [
    "products_data = spark.read.format(\"csv\").option(\"header\", True).option('inferSchema',True).load(\"dbfs:/FileStore/shared_uploads/subhanshaik677@gmail.com/products1_1.csv\")\n",
    "shipping_data = spark.read.format(\"csv\").option(\"header\", True).option('inferSchema',True).load(\"dbfs:/FileStore/shared_uploads/subhanshaik677@gmail.com/shipping.csv\")\n",
    "orders_data = spark.read.format(\"csv\").option(\"header\",True).option('inferSchema',True).load(\"dbfs:/FileStore/shared_uploads/subhanshaik677@gmail.com/orders.csv\")\n",
    "customers_data = spark.read.format(\"csv\").option(\"header\", True).option('inferSchema',True).load(\"dbfs:/FileStore/shared_uploads/subhanshaik677@gmail.com/customers__1_.csv\")"
   ]
  },
  {
   "cell_type": "code",
   "execution_count": 0,
   "metadata": {
    "application/vnd.databricks.v1+cell": {
     "cellMetadata": {
      "byteLimit": 2048000,
      "rowLimit": 10000
     },
     "inputWidgets": {},
     "nuid": "70d64aad-34a1-4da7-89ad-35eb2ac95ae1",
     "showTitle": false,
     "tableResultSettingsMap": {},
     "title": ""
    }
   },
   "outputs": [
    {
     "output_type": "stream",
     "name": "stdout",
     "output_type": "stream",
     "text": [
      "root\n |-- product_id: integer (nullable = true)\n |-- product_name: string (nullable = true)\n |-- category: string (nullable = true)\n |-- price: double (nullable = true)\n |-- stock_quantity: integer (nullable = true)\n\nroot\n |-- order_id: integer (nullable = true)\n |-- delivery_date: date (nullable = true)\n |-- status: string (nullable = true)\n\nroot\n |-- order_id: integer (nullable = true)\n |-- customer_id: integer (nullable = true)\n |-- product_id: integer (nullable = true)\n |-- order_date: date (nullable = true)\n |-- quantity: integer (nullable = true)\n |-- total_price: double (nullable = true)\n\nroot\n |-- customer_id: integer (nullable = true)\n |-- name: string (nullable = true)\n |-- email: string (nullable = true)\n |-- address: string (nullable = true)\n |-- signup_date: date (nullable = true)\n\n"
     ]
    }
   ],
   "source": [
    "### Displaying all the datasets schemas.\n",
    "def display_data(*data):\n",
    "    for i in data:\n",
    "        i.printSchema()\n",
    "\n",
    "display_data(products_data, shipping_data, orders_data, customers_data)"
   ]
  },
  {
   "cell_type": "markdown",
   "metadata": {
    "application/vnd.databricks.v1+cell": {
     "cellMetadata": {},
     "inputWidgets": {},
     "nuid": "c9b37da8-65dd-448e-bb10-599b0541d5f8",
     "showTitle": false,
     "tableResultSettingsMap": {},
     "title": ""
    }
   },
   "source": [
    "#### Removing null values from every dataset."
   ]
  },
  {
   "cell_type": "code",
   "execution_count": 0,
   "metadata": {
    "application/vnd.databricks.v1+cell": {
     "cellMetadata": {
      "byteLimit": 2048000,
      "rowLimit": 10000
     },
     "inputWidgets": {},
     "nuid": "c10057a1-084e-409e-a130-259d4c745497",
     "showTitle": false,
     "tableResultSettingsMap": {},
     "title": ""
    }
   },
   "outputs": [
    {
     "output_type": "stream",
     "name": "stdout",
     "output_type": "stream",
     "text": [
      "Out[95]: 'Successfully dropped the null values in all datasets'"
     ]
    }
   ],
   "source": [
    "def dropping_null_values(*data):\n",
    "    for i in data:\n",
    "        i.dropna()\n",
    "    return 'Successfully dropped the null values in all datasets'\n",
    "dropping_null_values(products_data, shipping_data, orders_data, customers_data)"
   ]
  },
  {
   "cell_type": "markdown",
   "metadata": {
    "application/vnd.databricks.v1+cell": {
     "cellMetadata": {
      "byteLimit": 2048000,
      "rowLimit": 10000
     },
     "inputWidgets": {},
     "nuid": "e8820b7a-20fb-401e-8ae4-a5e73ed29b4d",
     "showTitle": false,
     "tableResultSettingsMap": {},
     "title": ""
    }
   },
   "source": [
    "#### converting all the datatypes based upon our requirment. mainly focused on date data type."
   ]
  },
  {
   "cell_type": "code",
   "execution_count": 0,
   "metadata": {
    "application/vnd.databricks.v1+cell": {
     "cellMetadata": {
      "byteLimit": 2048000,
      "rowLimit": 10000
     },
     "inputWidgets": {},
     "nuid": "af323bba-7d00-442d-9b21-5b0f391f7e32",
     "showTitle": false,
     "tableResultSettingsMap": {},
     "title": ""
    }
   },
   "outputs": [],
   "source": [
    "from pyspark.sql.types import *\n",
    "from pyspark.sql.functions import *\n",
    "customers_data=customers_data.withColumn('signup_date',col('signup_date').cast(DateType()))\n",
    "orders_data=orders_data.withColumn('order_date',col('order_date').cast(DateType()))\n",
    "shipping_data=shipping_data.withColumn('delivery_date',col('delivery_date').cast(DateType()))"
   ]
  },
  {
   "cell_type": "markdown",
   "metadata": {
    "application/vnd.databricks.v1+cell": {
     "cellMetadata": {
      "byteLimit": 2048000,
      "rowLimit": 10000
     },
     "inputWidgets": {},
     "nuid": "abac9ed9-60f7-49e5-9744-32b434efbec9",
     "showTitle": false,
     "tableResultSettingsMap": {},
     "title": ""
    }
   },
   "source": [
    "#### total value price of orders for each customer\n",
    "##### displayed only first 10 rows"
   ]
  },
  {
   "cell_type": "code",
   "execution_count": 0,
   "metadata": {
    "application/vnd.databricks.v1+cell": {
     "cellMetadata": {
      "byteLimit": 2048000,
      "rowLimit": 10000
     },
     "inputWidgets": {},
     "nuid": "88c6c3e3-4fd8-466b-beb6-0a5d0d96989f",
     "showTitle": false,
     "tableResultSettingsMap": {},
     "title": ""
    }
   },
   "outputs": [
    {
     "output_type": "display_data",
     "data": {
      "text/html": [
       "<style scoped>\n",
       "  .table-result-container {\n",
       "    max-height: 300px;\n",
       "    overflow: auto;\n",
       "  }\n",
       "  table, th, td {\n",
       "    border: 1px solid black;\n",
       "    border-collapse: collapse;\n",
       "  }\n",
       "  th, td {\n",
       "    padding: 5px;\n",
       "  }\n",
       "  th {\n",
       "    text-align: left;\n",
       "  }\n",
       "</style><div class='table-result-container'><table class='table-result'><thead style='background-color: white'><tr><th>customer_id</th><th>name</th><th>Total value</th></tr></thead><tbody><tr><td>1</td><td>Gregory Miller</td><td>48687.24999999999</td></tr><tr><td>2</td><td>John Perry</td><td>13309.909999999998</td></tr><tr><td>3</td><td>Cory Perez</td><td>26942.010000000002</td></tr><tr><td>4</td><td>Alicia Howard</td><td>30384.48</td></tr><tr><td>5</td><td>Lisa Howard</td><td>7464.11</td></tr><tr><td>6</td><td>John Chavez</td><td>5664.650000000001</td></tr><tr><td>7</td><td>Nathan Stafford</td><td>43929.4</td></tr><tr><td>8</td><td>Christopher Fox</td><td>19934.87</td></tr><tr><td>9</td><td>Scott Larsen</td><td>17619.54</td></tr><tr><td>10</td><td>Taylor Gordon</td><td>43288.14</td></tr></tbody></table></div>"
      ]
     },
     "metadata": {
      "application/vnd.databricks.v1+output": {
       "addedWidgets": {},
       "aggData": [],
       "aggError": "",
       "aggOverflow": false,
       "aggSchema": [],
       "aggSeriesLimitReached": false,
       "aggType": "",
       "arguments": {},
       "columnCustomDisplayInfos": {},
       "data": [
        [
         1,
         "Gregory Miller",
         48687.24999999999
        ],
        [
         2,
         "John Perry",
         13309.909999999998
        ],
        [
         3,
         "Cory Perez",
         26942.010000000002
        ],
        [
         4,
         "Alicia Howard",
         30384.48
        ],
        [
         5,
         "Lisa Howard",
         7464.11
        ],
        [
         6,
         "John Chavez",
         5664.650000000001
        ],
        [
         7,
         "Nathan Stafford",
         43929.4
        ],
        [
         8,
         "Christopher Fox",
         19934.87
        ],
        [
         9,
         "Scott Larsen",
         17619.54
        ],
        [
         10,
         "Taylor Gordon",
         43288.14
        ]
       ],
       "datasetInfos": [],
       "dbfsResultPath": null,
       "isJsonSchema": true,
       "metadata": {},
       "overflow": false,
       "plotOptions": {
        "customPlotOptions": {},
        "displayType": "table",
        "pivotAggregation": null,
        "pivotColumns": null,
        "xColumns": null,
        "yColumns": null
       },
       "removedWidgets": [],
       "schema": [
        {
         "metadata": "{}",
         "name": "customer_id",
         "type": "\"integer\""
        },
        {
         "metadata": "{}",
         "name": "name",
         "type": "\"string\""
        },
        {
         "metadata": "{}",
         "name": "Total value",
         "type": "\"double\""
        }
       ],
       "type": "table"
      }
     },
     "output_type": "display_data"
    }
   ],
   "source": [
    "total_order_value_per_customer=orders_data.groupby('customer_id').agg(sum('total_price').alias('Total value'))\\\n",
    "        .join(customers_data.select('customer_id','name'),on='customer_id',how='inner')\n",
    "total_order_value_per_customer=total_order_value_per_customer.select('customer_id','name','Total value')\n",
    "total_order_value_per_customer.orderBy(col('customer_id')).limit(10).display()"
   ]
  },
  {
   "cell_type": "markdown",
   "metadata": {
    "application/vnd.databricks.v1+cell": {
     "cellMetadata": {
      "byteLimit": 2048000,
      "rowLimit": 10000
     },
     "inputWidgets": {},
     "nuid": "86a2daf1-62da-4f92-af0a-90e2fe19c2fe",
     "showTitle": false,
     "tableResultSettingsMap": {},
     "title": ""
    }
   },
   "source": [
    "#### Average of quantity of orders per each customer\n",
    "##### Displayed only first 10 rows"
   ]
  },
  {
   "cell_type": "code",
   "execution_count": 0,
   "metadata": {
    "application/vnd.databricks.v1+cell": {
     "cellMetadata": {
      "byteLimit": 2048000,
      "rowLimit": 10000
     },
     "inputWidgets": {},
     "nuid": "c2a4e51d-e17f-49a7-a0f0-6be5a6b2c610",
     "showTitle": false,
     "tableResultSettingsMap": {},
     "title": ""
    }
   },
   "outputs": [
    {
     "output_type": "display_data",
     "data": {
      "text/html": [
       "<style scoped>\n",
       "  .table-result-container {\n",
       "    max-height: 300px;\n",
       "    overflow: auto;\n",
       "  }\n",
       "  table, th, td {\n",
       "    border: 1px solid black;\n",
       "    border-collapse: collapse;\n",
       "  }\n",
       "  th, td {\n",
       "    padding: 5px;\n",
       "  }\n",
       "  th {\n",
       "    text-align: left;\n",
       "  }\n",
       "</style><div class='table-result-container'><table class='table-result'><thead style='background-color: white'><tr><th>customer_id</th><th>name</th><th>Average of Quantity</th></tr></thead><tbody><tr><td>1</td><td>Gregory Miller</td><td>3.0</td></tr><tr><td>2</td><td>John Perry</td><td>2.0</td></tr><tr><td>3</td><td>Cory Perez</td><td>2.0</td></tr><tr><td>4</td><td>Alicia Howard</td><td>2.8</td></tr><tr><td>5</td><td>Lisa Howard</td><td>1.0</td></tr><tr><td>6</td><td>John Chavez</td><td>1.5</td></tr><tr><td>7</td><td>Nathan Stafford</td><td>2.75</td></tr><tr><td>8</td><td>Christopher Fox</td><td>2.25</td></tr><tr><td>9</td><td>Scott Larsen</td><td>1.25</td></tr><tr><td>10</td><td>Taylor Gordon</td><td>3.5</td></tr></tbody></table></div>"
      ]
     },
     "metadata": {
      "application/vnd.databricks.v1+output": {
       "addedWidgets": {},
       "aggData": [],
       "aggError": "",
       "aggOverflow": false,
       "aggSchema": [],
       "aggSeriesLimitReached": false,
       "aggType": "",
       "arguments": {},
       "columnCustomDisplayInfos": {},
       "data": [
        [
         1,
         "Gregory Miller",
         3.0
        ],
        [
         2,
         "John Perry",
         2.0
        ],
        [
         3,
         "Cory Perez",
         2.0
        ],
        [
         4,
         "Alicia Howard",
         2.8
        ],
        [
         5,
         "Lisa Howard",
         1.0
        ],
        [
         6,
         "John Chavez",
         1.5
        ],
        [
         7,
         "Nathan Stafford",
         2.75
        ],
        [
         8,
         "Christopher Fox",
         2.25
        ],
        [
         9,
         "Scott Larsen",
         1.25
        ],
        [
         10,
         "Taylor Gordon",
         3.5
        ]
       ],
       "datasetInfos": [],
       "dbfsResultPath": null,
       "isJsonSchema": true,
       "metadata": {},
       "overflow": false,
       "plotOptions": {
        "customPlotOptions": {},
        "displayType": "table",
        "pivotAggregation": null,
        "pivotColumns": null,
        "xColumns": null,
        "yColumns": null
       },
       "removedWidgets": [],
       "schema": [
        {
         "metadata": "{}",
         "name": "customer_id",
         "type": "\"integer\""
        },
        {
         "metadata": "{}",
         "name": "name",
         "type": "\"string\""
        },
        {
         "metadata": "{}",
         "name": "Average of Quantity",
         "type": "\"double\""
        }
       ],
       "type": "table"
      }
     },
     "output_type": "display_data"
    }
   ],
   "source": [
    "average_order_size_per_customer=orders_data.groupby('customer_id').agg(avg('quantity').alias('Average of Quantity'))\\\n",
    "    .join(customers_data.select('customer_id','name'),on='customer_id',how='inner')\n",
    "average_order_size_per_customer=average_order_size_per_customer.select('customer_id','name','Average of Quantity')\n",
    "average_order_size_per_customer.orderBy('customer_id').limit(10).display()"
   ]
  },
  {
   "cell_type": "markdown",
   "metadata": {
    "application/vnd.databricks.v1+cell": {
     "cellMetadata": {
      "byteLimit": 2048000,
      "rowLimit": 10000
     },
     "inputWidgets": {},
     "nuid": "2d223636-7669-4e03-ad85-6d276d19efd8",
     "showTitle": false,
     "tableResultSettingsMap": {},
     "title": ""
    }
   },
   "source": [
    "#### Filtering data based upon threshold value 50000\n",
    "###### As the price values are high in our dataset we use 50000 as a threhsold value.\n",
    "###### Displayed only first 10 rows"
   ]
  },
  {
   "cell_type": "code",
   "execution_count": 0,
   "metadata": {
    "application/vnd.databricks.v1+cell": {
     "cellMetadata": {
      "byteLimit": 2048000,
      "rowLimit": 10000
     },
     "inputWidgets": {},
     "nuid": "5ce84697-46da-402e-bf31-2faf31485eab",
     "showTitle": false,
     "tableResultSettingsMap": {},
     "title": ""
    }
   },
   "outputs": [
    {
     "output_type": "display_data",
     "data": {
      "text/html": [
       "<style scoped>\n",
       "  .table-result-container {\n",
       "    max-height: 300px;\n",
       "    overflow: auto;\n",
       "  }\n",
       "  table, th, td {\n",
       "    border: 1px solid black;\n",
       "    border-collapse: collapse;\n",
       "  }\n",
       "  th, td {\n",
       "    padding: 5px;\n",
       "  }\n",
       "  th {\n",
       "    text-align: left;\n",
       "  }\n",
       "</style><div class='table-result-container'><table class='table-result'><thead style='background-color: white'><tr><th>customer_id</th><th>name</th><th>Total value</th></tr></thead><tbody><tr><td>386</td><td>Alan Hall</td><td>99906.87999999998</td></tr><tr><td>506</td><td>Erica Anthony</td><td>94867.84999999998</td></tr><tr><td>840</td><td>Beverly Martinez</td><td>94867.17000000001</td></tr><tr><td>425</td><td>Christina Rivera</td><td>94238.27999999998</td></tr><tr><td>921</td><td>Sue Acosta</td><td>91941.35</td></tr><tr><td>737</td><td>Carolyn Parker</td><td>87587.45</td></tr><tr><td>556</td><td>Peter Johnson</td><td>86918.30000000002</td></tr><tr><td>25</td><td>Christopher Smith</td><td>86297.17</td></tr><tr><td>15</td><td>Wendy Taylor</td><td>85832.43</td></tr><tr><td>796</td><td>Tiffany Lucas</td><td>84891.87000000001</td></tr></tbody></table></div>"
      ]
     },
     "metadata": {
      "application/vnd.databricks.v1+output": {
       "addedWidgets": {},
       "aggData": [],
       "aggError": "",
       "aggOverflow": false,
       "aggSchema": [],
       "aggSeriesLimitReached": false,
       "aggType": "",
       "arguments": {},
       "columnCustomDisplayInfos": {},
       "data": [
        [
         386,
         "Alan Hall",
         99906.87999999998
        ],
        [
         506,
         "Erica Anthony",
         94867.84999999998
        ],
        [
         840,
         "Beverly Martinez",
         94867.17000000001
        ],
        [
         425,
         "Christina Rivera",
         94238.27999999998
        ],
        [
         921,
         "Sue Acosta",
         91941.35
        ],
        [
         737,
         "Carolyn Parker",
         87587.45
        ],
        [
         556,
         "Peter Johnson",
         86918.30000000002
        ],
        [
         25,
         "Christopher Smith",
         86297.17
        ],
        [
         15,
         "Wendy Taylor",
         85832.43
        ],
        [
         796,
         "Tiffany Lucas",
         84891.87000000001
        ]
       ],
       "datasetInfos": [],
       "dbfsResultPath": null,
       "isJsonSchema": true,
       "metadata": {},
       "overflow": false,
       "plotOptions": {
        "customPlotOptions": {},
        "displayType": "table",
        "pivotAggregation": null,
        "pivotColumns": null,
        "xColumns": null,
        "yColumns": null
       },
       "removedWidgets": [],
       "schema": [
        {
         "metadata": "{}",
         "name": "customer_id",
         "type": "\"integer\""
        },
        {
         "metadata": "{}",
         "name": "name",
         "type": "\"string\""
        },
        {
         "metadata": "{}",
         "name": "Total value",
         "type": "\"double\""
        }
       ],
       "type": "table"
      }
     },
     "output_type": "display_data"
    },
    {
     "output_type": "stream",
     "name": "stdout",
     "output_type": "stream",
     "text": [
      "We have 135 members as Prime_customers\n"
     ]
    }
   ],
   "source": [
    "Prime_customers=total_order_value_per_customer.filter(col('Total value')>50000)\n",
    "Prime_customers.orderBy(col('Total value').desc()).limit(10).display()\n",
    "print(f'We have {Prime_customers.count()} members as Prime_customers')"
   ]
  },
  {
   "cell_type": "markdown",
   "metadata": {
    "application/vnd.databricks.v1+cell": {
     "cellMetadata": {
      "byteLimit": 2048000,
      "rowLimit": 10000
     },
     "inputWidgets": {},
     "nuid": "648bdca1-ac16-4ffa-8417-a4877478cba4",
     "showTitle": false,
     "tableResultSettingsMap": {},
     "title": ""
    }
   },
   "source": [
    "### Finding the highest value Product category\n",
    "#### Intially grouped the data based upon product_id and get the total revenue of each product.\n",
    "#### Now for the above dataframe joined products_data based upon the product_id.\n",
    "#### Based upon the dataframe obtained sorted it on revenue per product and get the first row."
   ]
  },
  {
   "cell_type": "code",
   "execution_count": 0,
   "metadata": {
    "application/vnd.databricks.v1+cell": {
     "cellMetadata": {
      "byteLimit": 2048000,
      "rowLimit": 10000
     },
     "inputWidgets": {},
     "nuid": "cff54011-bb30-4722-8c81-1fd6c64f1bfe",
     "showTitle": false,
     "tableResultSettingsMap": {},
     "title": ""
    }
   },
   "outputs": [
    {
     "output_type": "stream",
     "name": "stdout",
     "output_type": "stream",
     "text": [
      "Row(Product_name='Toaster', category='Home & Kitchen', total=7514255.409999999)\n"
     ]
    },
    {
     "output_type": "display_data",
     "data": {
      "text/html": [
       "<style scoped>\n",
       "  .table-result-container {\n",
       "    max-height: 300px;\n",
       "    overflow: auto;\n",
       "  }\n",
       "  table, th, td {\n",
       "    border: 1px solid black;\n",
       "    border-collapse: collapse;\n",
       "  }\n",
       "  th, td {\n",
       "    padding: 5px;\n",
       "  }\n",
       "  th {\n",
       "    text-align: left;\n",
       "  }\n",
       "</style><div class='table-result-container'><table class='table-result'><thead style='background-color: white'><tr><th>Product_name</th><th>category</th><th>total</th></tr></thead><tbody><tr><td>Toaster</td><td>Home & Kitchen</td><td>7514255.409999999</td></tr></tbody></table></div>"
      ]
     },
     "metadata": {
      "application/vnd.databricks.v1+output": {
       "addedWidgets": {},
       "aggData": [],
       "aggError": "",
       "aggOverflow": false,
       "aggSchema": [],
       "aggSeriesLimitReached": false,
       "aggType": "",
       "arguments": {},
       "columnCustomDisplayInfos": {},
       "data": [
        [
         "Toaster",
         "Home & Kitchen",
         7514255.409999999
        ]
       ],
       "datasetInfos": [],
       "dbfsResultPath": null,
       "isJsonSchema": true,
       "metadata": {},
       "overflow": false,
       "plotOptions": {
        "customPlotOptions": {},
        "displayType": "table",
        "pivotAggregation": null,
        "pivotColumns": null,
        "xColumns": null,
        "yColumns": null
       },
       "removedWidgets": [],
       "schema": [
        {
         "metadata": "{}",
         "name": "Product_name",
         "type": "\"string\""
        },
        {
         "metadata": "{}",
         "name": "category",
         "type": "\"string\""
        },
        {
         "metadata": "{}",
         "name": "total",
         "type": "\"double\""
        }
       ],
       "type": "table"
      }
     },
     "output_type": "display_data"
    }
   ],
   "source": [
    "Highest_value_product_category=orders_data.groupby('product_id').agg(sum('total_price').alias('revenue per product'))\\\n",
    "    .join(products_data.select('product_id','product_name','category'),on='product_id',how='inner')\n",
    "Highest_value_product_category=Highest_value_product_category.select('product_id','product_name','category','revenue per product')\n",
    "print(Highest_value_product_category.groupby('Product_name','category').agg(sum('revenue per product').alias('total')).orderBy(col('total').desc()).collect()[0])\n",
    "products_list=Highest_value_product_category.groupby('Product_name','category').agg(sum('revenue per product').alias('total')).orderBy(col('total').desc())\n",
    "products_list.limit(1).display()"
   ]
  },
  {
   "cell_type": "markdown",
   "metadata": {
    "application/vnd.databricks.v1+cell": {
     "cellMetadata": {},
     "inputWidgets": {},
     "nuid": "fb3047e4-5cff-4e3a-b532-939b82a35695",
     "showTitle": false,
     "tableResultSettingsMap": {},
     "title": ""
    }
   },
   "source": [
    "### Highest delay days order with all the data like order,product and customer_id"
   ]
  },
  {
   "cell_type": "code",
   "execution_count": 0,
   "metadata": {
    "application/vnd.databricks.v1+cell": {
     "cellMetadata": {
      "byteLimit": 2048000,
      "rowLimit": 10000
     },
     "inputWidgets": {},
     "nuid": "6184a3ad-1ea3-46b1-8493-26cd8f55f6c1",
     "showTitle": false,
     "tableResultSettingsMap": {},
     "title": ""
    }
   },
   "outputs": [
    {
     "output_type": "display_data",
     "data": {
      "text/html": [
       "<style scoped>\n",
       "  .table-result-container {\n",
       "    max-height: 300px;\n",
       "    overflow: auto;\n",
       "  }\n",
       "  table, th, td {\n",
       "    border: 1px solid black;\n",
       "    border-collapse: collapse;\n",
       "  }\n",
       "  th, td {\n",
       "    padding: 5px;\n",
       "  }\n",
       "  th {\n",
       "    text-align: left;\n",
       "  }\n",
       "</style><div class='table-result-container'><table class='table-result'><thead style='background-color: white'><tr><th>product_id</th><th>order_id</th><th>customer_id</th><th>order_date</th><th>quantity</th><th>total_price</th><th>delivery_date</th><th>date_differnces</th><th>product_name</th><th>category</th></tr></thead><tbody><tr><td>77</td><td>1330</td><td>484</td><td>2024-03-17</td><td>2</td><td>2791.86</td><td>2025-03-19</td><td>367</td><td>RC Car</td><td>Toys</td></tr></tbody></table></div>"
      ]
     },
     "metadata": {
      "application/vnd.databricks.v1+output": {
       "addedWidgets": {},
       "aggData": [],
       "aggError": "",
       "aggOverflow": false,
       "aggSchema": [],
       "aggSeriesLimitReached": false,
       "aggType": "",
       "arguments": {},
       "columnCustomDisplayInfos": {},
       "data": [
        [
         77,
         1330,
         484,
         "2024-03-17",
         2,
         2791.86,
         "2025-03-19",
         367,
         "RC Car",
         "Toys"
        ]
       ],
       "datasetInfos": [],
       "dbfsResultPath": null,
       "isJsonSchema": true,
       "metadata": {},
       "overflow": false,
       "plotOptions": {
        "customPlotOptions": {},
        "displayType": "table",
        "pivotAggregation": null,
        "pivotColumns": null,
        "xColumns": null,
        "yColumns": null
       },
       "removedWidgets": [],
       "schema": [
        {
         "metadata": "{}",
         "name": "product_id",
         "type": "\"integer\""
        },
        {
         "metadata": "{}",
         "name": "order_id",
         "type": "\"integer\""
        },
        {
         "metadata": "{}",
         "name": "customer_id",
         "type": "\"integer\""
        },
        {
         "metadata": "{}",
         "name": "order_date",
         "type": "\"date\""
        },
        {
         "metadata": "{}",
         "name": "quantity",
         "type": "\"integer\""
        },
        {
         "metadata": "{}",
         "name": "total_price",
         "type": "\"double\""
        },
        {
         "metadata": "{}",
         "name": "delivery_date",
         "type": "\"date\""
        },
        {
         "metadata": "{}",
         "name": "date_differnces",
         "type": "\"integer\""
        },
        {
         "metadata": "{}",
         "name": "product_name",
         "type": "\"string\""
        },
        {
         "metadata": "{}",
         "name": "category",
         "type": "\"string\""
        }
       ],
       "type": "table"
      }
     },
     "output_type": "display_data"
    },
    {
     "output_type": "display_data",
     "data": {
      "text/html": [
       "<style scoped>\n",
       "  .table-result-container {\n",
       "    max-height: 300px;\n",
       "    overflow: auto;\n",
       "  }\n",
       "  table, th, td {\n",
       "    border: 1px solid black;\n",
       "    border-collapse: collapse;\n",
       "  }\n",
       "  th, td {\n",
       "    padding: 5px;\n",
       "  }\n",
       "  th {\n",
       "    text-align: left;\n",
       "  }\n",
       "</style><div class='table-result-container'><table class='table-result'><thead style='background-color: white'><tr><th>date_differnces</th></tr></thead><tbody><tr><td>367</td></tr></tbody></table></div>"
      ]
     },
     "metadata": {
      "application/vnd.databricks.v1+output": {
       "addedWidgets": {},
       "aggData": [],
       "aggError": "",
       "aggOverflow": false,
       "aggSchema": [],
       "aggSeriesLimitReached": false,
       "aggType": "",
       "arguments": {},
       "columnCustomDisplayInfos": {},
       "data": [
        [
         367
        ]
       ],
       "datasetInfos": [],
       "dbfsResultPath": null,
       "isJsonSchema": true,
       "metadata": {},
       "overflow": false,
       "plotOptions": {
        "customPlotOptions": {},
        "displayType": "table",
        "pivotAggregation": null,
        "pivotColumns": null,
        "xColumns": null,
        "yColumns": null
       },
       "removedWidgets": [],
       "schema": [
        {
         "metadata": "{}",
         "name": "date_differnces",
         "type": "\"integer\""
        }
       ],
       "type": "table"
      }
     },
     "output_type": "display_data"
    }
   ],
   "source": [
    "from pyspark.sql.functions import datediff\n",
    "shipment_delays=orders_data.join(shipping_data.select('order_id','delivery_date'),on='order_id',how='inner')\n",
    "\n",
    "shipment_delays=shipment_delays.withColumn('date_differnces',datediff('delivery_date','order_date')).join(products_data.select('product_id','product_name','category'),on='product_id',how='inner')\n",
    "shipment_delays.orderBy(col('date_differnces').desc()).limit(1).display()\n",
    "shipment_delays.orderBy(col('date_differnces').desc())\\\n",
    "    .select('date_differnces').limit(1).display()"
   ]
  },
  {
   "cell_type": "markdown",
   "metadata": {
    "application/vnd.databricks.v1+cell": {
     "cellMetadata": {
      "byteLimit": 2048000,
      "rowLimit": 10000
     },
     "inputWidgets": {},
     "nuid": "f8ca81b3-b050-4dc5-ace4-9f7c40d38be9",
     "showTitle": false,
     "tableResultSettingsMap": {},
     "title": ""
    }
   },
   "source": [
    "### Visualization of customer spendings on orders\n"
   ]
  },
  {
   "cell_type": "markdown",
   "metadata": {
    "application/vnd.databricks.v1+cell": {
     "cellMetadata": {},
     "inputWidgets": {},
     "nuid": "23d22eb6-08eb-4c42-b9d6-e572476ec4cf",
     "showTitle": false,
     "tableResultSettingsMap": {},
     "title": ""
    }
   },
   "source": [
    "#### As we have 1000 customers I created clusters of each 100 customers.\n",
    "#### I added all the totals of 100 customers of that cluster as total revenue"
   ]
  },
  {
   "cell_type": "code",
   "execution_count": 0,
   "metadata": {
    "application/vnd.databricks.v1+cell": {
     "cellMetadata": {
      "byteLimit": 2048000,
      "rowLimit": 10000
     },
     "inputWidgets": {},
     "nuid": "806117f0-c30e-4357-a763-ac2396b23981",
     "showTitle": false,
     "tableResultSettingsMap": {},
     "title": ""
    }
   },
   "outputs": [],
   "source": [
    "customers_orders=orders_data.groupBy('customer_id').agg(sum('total_price').alias('total per each customer'))\n",
    "customers_orders=customers_orders.orderBy('customer_id')\n"
   ]
  },
  {
   "cell_type": "code",
   "execution_count": 0,
   "metadata": {
    "application/vnd.databricks.v1+cell": {
     "cellMetadata": {
      "byteLimit": 2048000,
      "rowLimit": 10000
     },
     "inputWidgets": {},
     "nuid": "5f7f2665-8136-4cec-a92a-9c735c573db0",
     "showTitle": false,
     "tableResultSettingsMap": {},
     "title": ""
    }
   },
   "outputs": [
    {
     "output_type": "stream",
     "name": "stdout",
     "output_type": "stream",
     "text": [
      "Out[179]: [[1.0, 48687.24999999999],\n [2.0, 13309.909999999998],\n [3.0, 26942.010000000002],\n [4.0, 30384.48],\n [5.0, 7464.11],\n [6.0, 5664.650000000001],\n [7.0, 43929.4],\n [8.0, 19934.87],\n [9.0, 17619.54],\n [10.0, 43288.14]]"
     ]
    }
   ],
   "source": [
    "data=customers_orders.toPandas()\n",
    "list_data=data.values.tolist()\n",
    "list_data[:10]"
   ]
  },
  {
   "cell_type": "code",
   "execution_count": 0,
   "metadata": {
    "application/vnd.databricks.v1+cell": {
     "cellMetadata": {
      "byteLimit": 2048000,
      "rowLimit": 10000
     },
     "inputWidgets": {},
     "nuid": "81549872-de5d-4011-8db7-188ec1ccfd32",
     "showTitle": false,
     "tableResultSettingsMap": {},
     "title": ""
    }
   },
   "outputs": [
    {
     "output_type": "stream",
     "name": "stdout",
     "output_type": "stream",
     "text": [
      "Out[104]: [['c 1', 3164228.069999999],\n ['c 2', 2885589.349999999],\n ['c 3', 2937284.7000000007],\n ['c 4', 3281752.1799999997],\n ['c 5', 3106020.39],\n ['c 6', 3187786.470000001],\n ['c 7', 3001121.3400000003],\n ['c 8', 3233587.4500000016],\n ['c 9', 3003079.1099999985],\n ['c 10', 2760546.1700000004]]"
     ]
    }
   ],
   "source": [
    "def cluster_total_revenue(list_data):\n",
    "    cluster_prices=[]\n",
    "    sum_ord=0\n",
    "    customers_cluster=0\n",
    "    for i in range(1,len(list_data)):\n",
    "        sum_ord+=list_data[i][1]\n",
    "        if i%100==0 or i==len(list_data)-1:\n",
    "            customers_cluster+=1\n",
    "            cluster_prices.append([f'c {customers_cluster}',sum_ord])\n",
    "            sum_ord=0\n",
    "    return cluster_prices\n",
    "\n",
    "cluster_total_revenue(list_data)"
   ]
  },
  {
   "cell_type": "code",
   "execution_count": 0,
   "metadata": {
    "application/vnd.databricks.v1+cell": {
     "cellMetadata": {
      "byteLimit": 2048000,
      "rowLimit": 10000
     },
     "inputWidgets": {},
     "nuid": "8c4c9841-458b-43b7-bbf2-d08d184d11b2",
     "showTitle": false,
     "tableResultSettingsMap": {},
     "title": ""
    }
   },
   "outputs": [
    {
     "output_type": "display_data",
     "data": {
      "text/html": [
       "<div>\n",
       "<style scoped>\n",
       "    .dataframe tbody tr th:only-of-type {\n",
       "        vertical-align: middle;\n",
       "    }\n",
       "\n",
       "    .dataframe tbody tr th {\n",
       "        vertical-align: top;\n",
       "    }\n",
       "\n",
       "    .dataframe thead th {\n",
       "        text-align: right;\n",
       "    }\n",
       "</style>\n",
       "<table border=\"1\" class=\"dataframe\">\n",
       "  <thead>\n",
       "    <tr style=\"text-align: right;\">\n",
       "      <th></th>\n",
       "      <th>cluster_id</th>\n",
       "      <th>Total revenue</th>\n",
       "    </tr>\n",
       "  </thead>\n",
       "  <tbody>\n",
       "    <tr>\n",
       "      <th>0</th>\n",
       "      <td>c 1</td>\n",
       "      <td>3164228.07</td>\n",
       "    </tr>\n",
       "    <tr>\n",
       "      <th>1</th>\n",
       "      <td>c 2</td>\n",
       "      <td>2885589.35</td>\n",
       "    </tr>\n",
       "    <tr>\n",
       "      <th>2</th>\n",
       "      <td>c 3</td>\n",
       "      <td>2937284.70</td>\n",
       "    </tr>\n",
       "    <tr>\n",
       "      <th>3</th>\n",
       "      <td>c 4</td>\n",
       "      <td>3281752.18</td>\n",
       "    </tr>\n",
       "    <tr>\n",
       "      <th>4</th>\n",
       "      <td>c 5</td>\n",
       "      <td>3106020.39</td>\n",
       "    </tr>\n",
       "    <tr>\n",
       "      <th>5</th>\n",
       "      <td>c 6</td>\n",
       "      <td>3187786.47</td>\n",
       "    </tr>\n",
       "    <tr>\n",
       "      <th>6</th>\n",
       "      <td>c 7</td>\n",
       "      <td>3001121.34</td>\n",
       "    </tr>\n",
       "    <tr>\n",
       "      <th>7</th>\n",
       "      <td>c 8</td>\n",
       "      <td>3233587.45</td>\n",
       "    </tr>\n",
       "    <tr>\n",
       "      <th>8</th>\n",
       "      <td>c 9</td>\n",
       "      <td>3003079.11</td>\n",
       "    </tr>\n",
       "    <tr>\n",
       "      <th>9</th>\n",
       "      <td>c 10</td>\n",
       "      <td>2760546.17</td>\n",
       "    </tr>\n",
       "  </tbody>\n",
       "</table>\n",
       "</div>"
      ]
     },
     "metadata": {
      "application/vnd.databricks.v1+output": {
       "addedWidgets": {},
       "arguments": {},
       "data": "<div>\n<style scoped>\n    .dataframe tbody tr th:only-of-type {\n        vertical-align: middle;\n    }\n\n    .dataframe tbody tr th {\n        vertical-align: top;\n    }\n\n    .dataframe thead th {\n        text-align: right;\n    }\n</style>\n<table border=\"1\" class=\"dataframe\">\n  <thead>\n    <tr style=\"text-align: right;\">\n      <th></th>\n      <th>cluster_id</th>\n      <th>Total revenue</th>\n    </tr>\n  </thead>\n  <tbody>\n    <tr>\n      <th>0</th>\n      <td>c 1</td>\n      <td>3164228.07</td>\n    </tr>\n    <tr>\n      <th>1</th>\n      <td>c 2</td>\n      <td>2885589.35</td>\n    </tr>\n    <tr>\n      <th>2</th>\n      <td>c 3</td>\n      <td>2937284.70</td>\n    </tr>\n    <tr>\n      <th>3</th>\n      <td>c 4</td>\n      <td>3281752.18</td>\n    </tr>\n    <tr>\n      <th>4</th>\n      <td>c 5</td>\n      <td>3106020.39</td>\n    </tr>\n    <tr>\n      <th>5</th>\n      <td>c 6</td>\n      <td>3187786.47</td>\n    </tr>\n    <tr>\n      <th>6</th>\n      <td>c 7</td>\n      <td>3001121.34</td>\n    </tr>\n    <tr>\n      <th>7</th>\n      <td>c 8</td>\n      <td>3233587.45</td>\n    </tr>\n    <tr>\n      <th>8</th>\n      <td>c 9</td>\n      <td>3003079.11</td>\n    </tr>\n    <tr>\n      <th>9</th>\n      <td>c 10</td>\n      <td>2760546.17</td>\n    </tr>\n  </tbody>\n</table>\n</div>",
       "datasetInfos": [],
       "metadata": {},
       "removedWidgets": [],
       "textData": null,
       "type": "htmlSandbox"
      }
     },
     "output_type": "display_data"
    }
   ],
   "source": [
    "import pandas as pd\n",
    "clusters=pd.DataFrame(cluster_total_revenue(list_data))\n",
    "clusters.columns=['cluster_id','Total revenue']\n",
    "clusters"
   ]
  },
  {
   "cell_type": "markdown",
   "metadata": {
    "application/vnd.databricks.v1+cell": {
     "cellMetadata": {},
     "inputWidgets": {},
     "nuid": "038028ac-b963-4210-bc59-0a1fbf8ed2da",
     "showTitle": false,
     "tableResultSettingsMap": {},
     "title": ""
    }
   },
   "source": [
    "#### Fucntion for visualization "
   ]
  },
  {
   "cell_type": "code",
   "execution_count": 0,
   "metadata": {
    "application/vnd.databricks.v1+cell": {
     "cellMetadata": {
      "byteLimit": 2048000,
      "rowLimit": 10000
     },
     "inputWidgets": {},
     "nuid": "b0cb2abe-cc89-4e71-a97f-4ccf9879382e",
     "showTitle": false,
     "tableResultSettingsMap": {},
     "title": ""
    }
   },
   "outputs": [],
   "source": [
    "import matplotlib.pyplot as plt\n",
    "import seaborn as sns\n",
    "def visualize(labels,values,title,xlabel,ylabel):\n",
    "    sns.set_style(\"whitegrid\")\n",
    "    colors = sns.color_palette(\"viridis\", len(labels))\n",
    "    plt.figure(figsize=(10, 7))\n",
    "    bars = plt.bar(labels, values, color=colors, edgecolor='black', alpha=0.85)\n",
    "    for bar in bars:\n",
    "        plt.text(bar.get_x() + bar.get_width()/2, bar.get_height() + 5,  \n",
    "                f'{bar.get_height():,.0f}', ha='center', fontsize=12, fontweight='bold')\n",
    "    plt.title(title, fontsize=14, fontweight=\"bold\")\n",
    "    plt.xlabel(xlabel, fontsize=12)\n",
    "    plt.ylabel(ylabel, fontsize=12)\n",
    "    return plt.show()\n"
   ]
  },
  {
   "cell_type": "code",
   "execution_count": 0,
   "metadata": {
    "application/vnd.databricks.v1+cell": {
     "cellMetadata": {
      "byteLimit": 2048000,
      "rowLimit": 10000
     },
     "inputWidgets": {},
     "nuid": "28cbcca5-4e19-4b13-abca-7cf67a921c13",
     "showTitle": false,
     "tableResultSettingsMap": {},
     "title": ""
    }
   },
   "outputs": [
    {
     "output_type": "display_data",
     "data": {
      "image/png": "[encoded data removed]"
     },
     "metadata": {
      "application/vnd.databricks.v1+output": {
       "addedWidgets": {},
       "arguments": {},
       "data": "data:image/png;base64,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\n",
       "datasetInfos": [],
       "metadata": {},
       "removedWidgets": [],
       "type": "image"
      }
     },
     "output_type": "display_data"
    }
   ],
   "source": [
    "visualize(clusters['cluster_id'],clusters['Total revenue'],\"Customer Spending\",\"Clusters of each 100 customers\",\"Total Revenue\")"
   ]
  },
  {
   "cell_type": "markdown",
   "metadata": {
    "application/vnd.databricks.v1+cell": {
     "cellMetadata": {
      "byteLimit": 2048000,
      "rowLimit": 10000
     },
     "inputWidgets": {},
     "nuid": "c25a5dc5-3f10-4fa9-b80b-7679da4b4d8e",
     "showTitle": false,
     "tableResultSettingsMap": {},
     "title": ""
    }
   },
   "source": [
    "#### Visualizing total revenue of each category"
   ]
  },
  {
   "cell_type": "code",
   "execution_count": 0,
   "metadata": {
    "application/vnd.databricks.v1+cell": {
     "cellMetadata": {
      "byteLimit": 2048000,
      "rowLimit": 10000
     },
     "inputWidgets": {},
     "nuid": "7e6a0b47-0240-409b-8635-b8956275ae50",
     "showTitle": false,
     "tableResultSettingsMap": {},
     "title": ""
    }
   },
   "outputs": [
    {
     "output_type": "display_data",
     "data": {
      "text/html": [
       "<style scoped>\n",
       "  .table-result-container {\n",
       "    max-height: 300px;\n",
       "    overflow: auto;\n",
       "  }\n",
       "  table, th, td {\n",
       "    border: 1px solid black;\n",
       "    border-collapse: collapse;\n",
       "  }\n",
       "  th, td {\n",
       "    padding: 5px;\n",
       "  }\n",
       "  th {\n",
       "    text-align: left;\n",
       "  }\n",
       "</style><div class='table-result-container'><table class='table-result'><thead style='background-color: white'><tr><th>Product_name</th><th>category</th><th>total</th></tr></thead><tbody><tr><td>Toaster</td><td>Home & Kitchen</td><td>7514255.409999999</td></tr><tr><td>Yoga Mat</td><td>Sports</td><td>6235214.489999999</td></tr><tr><td>RC Car</td><td>Toys</td><td>5008281.600000001</td></tr><tr><td>Smartphone</td><td>Electronics</td><td>4480974.46</td></tr><tr><td>Jeans</td><td>Clothing</td><td>4334505.729999999</td></tr><tr><td>Biography</td><td>Books</td><td>3036450.79</td></tr></tbody></table></div>"
      ]
     },
     "metadata": {
      "application/vnd.databricks.v1+output": {
       "addedWidgets": {},
       "aggData": [],
       "aggError": "",
       "aggOverflow": false,
       "aggSchema": [],
       "aggSeriesLimitReached": false,
       "aggType": "",
       "arguments": {},
       "columnCustomDisplayInfos": {},
       "data": [
        [
         "Toaster",
         "Home & Kitchen",
         7514255.409999999
        ],
        [
         "Yoga Mat",
         "Sports",
         6235214.489999999
        ],
        [
         "RC Car",
         "Toys",
         5008281.600000001
        ],
        [
         "Smartphone",
         "Electronics",
         4480974.46
        ],
        [
         "Jeans",
         "Clothing",
         4334505.729999999
        ],
        [
         "Biography",
         "Books",
         3036450.79
        ]
       ],
       "datasetInfos": [],
       "dbfsResultPath": null,
       "isJsonSchema": true,
       "metadata": {},
       "overflow": false,
       "plotOptions": {
        "customPlotOptions": {},
        "displayType": "table",
        "pivotAggregation": null,
        "pivotColumns": null,
        "xColumns": null,
        "yColumns": null
       },
       "removedWidgets": [],
       "schema": [
        {
         "metadata": "{}",
         "name": "Product_name",
         "type": "\"string\""
        },
        {
         "metadata": "{}",
         "name": "category",
         "type": "\"string\""
        },
        {
         "metadata": "{}",
         "name": "total",
         "type": "\"double\""
        }
       ],
       "type": "table"
      }
     },
     "output_type": "display_data"
    }
   ],
   "source": [
    "products_list.display()"
   ]
  },
  {
   "cell_type": "code",
   "execution_count": 0,
   "metadata": {
    "application/vnd.databricks.v1+cell": {
     "cellMetadata": {
      "byteLimit": 2048000,
      "rowLimit": 10000
     },
     "inputWidgets": {},
     "nuid": "07d21460-901e-4e7d-b40e-ff4a97284c0f",
     "showTitle": false,
     "tableResultSettingsMap": {},
     "title": ""
    }
   },
   "outputs": [
    {
     "output_type": "display_data",
     "data": {
      "image/png": "[encoded data removed]"
     },
     "metadata": {
      "application/vnd.databricks.v1+output": {
       "addedWidgets": {},
       "arguments": {},
       "data": "data:image/png;base64,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\n",
       "datasetInfos": [],
       "metadata": {},
       "removedWidgets": [],
       "type": "image"
      }
     },
     "output_type": "display_data"
    }
   ],
   "source": [
    "data=products_list.toPandas()\n",
    "visualize(data['category'],data['total'],\"Total revenues of each category\",\"Category\",\"Total Revenue\")"
   ]
  },
  {
   "cell_type": "markdown",
   "metadata": {
    "application/vnd.databricks.v1+cell": {
     "cellMetadata": {
      "byteLimit": 2048000,
      "rowLimit": 10000
     },
     "inputWidgets": {},
     "nuid": "609964d7-9476-46e0-9742-dd82279cd4dc",
     "showTitle": false,
     "tableResultSettingsMap": {},
     "title": ""
    }
   },
   "source": [
    "### visualizing shipping delays for top products"
   ]
  },
  {
   "cell_type": "markdown",
   "metadata": {
    "application/vnd.databricks.v1+cell": {
     "cellMetadata": {},
     "inputWidgets": {},
     "nuid": "ff3fd334-dd6c-4495-a45d-8a3f3f4d6f92",
     "showTitle": false,
     "tableResultSettingsMap": {},
     "title": ""
    }
   },
   "source": [
    "##### First grouped the product-id based upon the quantity of the highest sold items.\n",
    "##### selected top10 most sold items and joined with prodcts_data to get the category of the products.\n",
    "##### By using matplotlib.pyplt and seaborn created a bar plot and pie plot ."
   ]
  },
  {
   "cell_type": "code",
   "execution_count": 0,
   "metadata": {
    "application/vnd.databricks.v1+cell": {
     "cellMetadata": {
      "byteLimit": 2048000,
      "rowLimit": 10000
     },
     "inputWidgets": {},
     "nuid": "48617d41-176c-4f8f-ba52-ba5f7f39ff9b",
     "showTitle": false,
     "tableResultSettingsMap": {},
     "title": ""
    }
   },
   "outputs": [
    {
     "output_type": "display_data",
     "data": {
      "text/html": [
       "<style scoped>\n",
       "  .table-result-container {\n",
       "    max-height: 300px;\n",
       "    overflow: auto;\n",
       "  }\n",
       "  table, th, td {\n",
       "    border: 1px solid black;\n",
       "    border-collapse: collapse;\n",
       "  }\n",
       "  th, td {\n",
       "    padding: 5px;\n",
       "  }\n",
       "  th {\n",
       "    text-align: left;\n",
       "  }\n",
       "</style><div class='table-result-container'><table class='table-result'><thead style='background-color: white'><tr><th>product_id</th><th>Total quantity</th></tr></thead><tbody><tr><td>4</td><td>181</td></tr><tr><td>76</td><td>178</td></tr><tr><td>37</td><td>175</td></tr><tr><td>59</td><td>171</td></tr><tr><td>1</td><td>163</td></tr><tr><td>35</td><td>161</td></tr><tr><td>58</td><td>159</td></tr><tr><td>28</td><td>155</td></tr><tr><td>96</td><td>154</td></tr><tr><td>94</td><td>153</td></tr></tbody></table></div>"
      ]
     },
     "metadata": {
      "application/vnd.databricks.v1+output": {
       "addedWidgets": {},
       "aggData": [],
       "aggError": "",
       "aggOverflow": false,
       "aggSchema": [],
       "aggSeriesLimitReached": false,
       "aggType": "",
       "arguments": {},
       "columnCustomDisplayInfos": {},
       "data": [
        [
         4,
         181
        ],
        [
         76,
         178
        ],
        [
         37,
         175
        ],
        [
         59,
         171
        ],
        [
         1,
         163
        ],
        [
         35,
         161
        ],
        [
         58,
         159
        ],
        [
         28,
         155
        ],
        [
         96,
         154
        ],
        [
         94,
         153
        ]
       ],
       "datasetInfos": [],
       "dbfsResultPath": null,
       "isJsonSchema": true,
       "metadata": {},
       "overflow": false,
       "plotOptions": {
        "customPlotOptions": {},
        "displayType": "table",
        "pivotAggregation": null,
        "pivotColumns": null,
        "xColumns": null,
        "yColumns": null
       },
       "removedWidgets": [],
       "schema": [
        {
         "metadata": "{}",
         "name": "product_id",
         "type": "\"integer\""
        },
        {
         "metadata": "{}",
         "name": "Total quantity",
         "type": "\"long\""
        }
       ],
       "type": "table"
      }
     },
     "output_type": "display_data"
    },
    {
     "output_type": "display_data",
     "data": {
      "text/html": [
       "<style scoped>\n",
       "  .table-result-container {\n",
       "    max-height: 300px;\n",
       "    overflow: auto;\n",
       "  }\n",
       "  table, th, td {\n",
       "    border: 1px solid black;\n",
       "    border-collapse: collapse;\n",
       "  }\n",
       "  th, td {\n",
       "    padding: 5px;\n",
       "  }\n",
       "  th {\n",
       "    text-align: left;\n",
       "  }\n",
       "</style><div class='table-result-container'><table class='table-result'><thead style='background-color: white'><tr><th>product_name</th><th>average time delays</th></tr></thead><tbody><tr><td>Toaster</td><td>96.57363782051281</td></tr><tr><td>Yoga Mat</td><td>102.0063492063492</td></tr><tr><td>Biography</td><td>97.0958904109589</td></tr><tr><td>RC Car</td><td>81.56896551724138</td></tr><tr><td>Smartphone</td><td>95.14388952672535</td></tr></tbody></table></div>"
      ]
     },
     "metadata": {
      "application/vnd.databricks.v1+output": {
       "addedWidgets": {},
       "aggData": [],
       "aggError": "",
       "aggOverflow": false,
       "aggSchema": [],
       "aggSeriesLimitReached": false,
       "aggType": "",
       "arguments": {},
       "columnCustomDisplayInfos": {},
       "data": [
        [
         "Toaster",
         96.57363782051281
        ],
        [
         "Yoga Mat",
         102.0063492063492
        ],
        [
         "Biography",
         97.0958904109589
        ],
        [
         "RC Car",
         81.56896551724138
        ],
        [
         "Smartphone",
         95.14388952672535
        ]
       ],
       "datasetInfos": [],
       "dbfsResultPath": null,
       "isJsonSchema": true,
       "metadata": {},
       "overflow": false,
       "plotOptions": {
        "customPlotOptions": {},
        "displayType": "table",
        "pivotAggregation": null,
        "pivotColumns": null,
        "xColumns": null,
        "yColumns": null
       },
       "removedWidgets": [],
       "schema": [
        {
         "metadata": "{}",
         "name": "product_name",
         "type": "\"string\""
        },
        {
         "metadata": "{}",
         "name": "average time delays",
         "type": "\"double\""
        }
       ],
       "type": "table"
      }
     },
     "output_type": "display_data"
    }
   ],
   "source": [
    "from pyspark.sql.functions import sum\n",
    "products_quantity=orders_data.groupBy('product_id').agg(sum('quantity').alias('Total quantity')).orderBy(col('Total quantity').desc()).limit(10)\n",
    "products_quantity.display()\n",
    "final_shipment_delays=products_quantity.join(shipment_delays.select('product_id','date_differnces'),on='product_id',how='left')\n",
    "final_shipment_delays=final_shipment_delays.groupBy('product_id').agg(avg('date_differnces'))\\\n",
    "    .join(products_data.select('product_id','product_name'),on='product_id',how='left')\n",
    "final_shipment_delays=final_shipment_delays.groupBy('product_name').agg(avg('avg(date_differnces)').alias('average time delays')).order\n",
    "final_shipment_delays.display()\n",
    "# shipment_delays.display()"
   ]
  },
  {
   "cell_type": "code",
   "execution_count": 0,
   "metadata": {
    "application/vnd.databricks.v1+cell": {
     "cellMetadata": {
      "byteLimit": 2048000,
      "rowLimit": 10000
     },
     "inputWidgets": {},
     "nuid": "f4f75129-afbb-4446-92c9-cf9827e853e4",
     "showTitle": false,
     "tableResultSettingsMap": {},
     "title": ""
    }
   },
   "outputs": [
    {
     "output_type": "display_data",
     "data": {
      "image/png": "[encoded data removed]"
     },
     "metadata": {
      "application/vnd.databricks.v1+output": {
       "addedWidgets": {},
       "arguments": {},
       "data": "data:image/png;base64,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\n",
       "datasetInfos": [],
       "metadata": {},
       "removedWidgets": [],
       "type": "image"
      }
     },
     "output_type": "display_data"
    }
   ],
   "source": [
    "data=final_shipment_delays.toPandas()\n",
    "visualize(data['product_name'],data['average time delays'],\"Average days of shipment delays\",\"products\",\"Total days\")"
   ]
  },
  {
   "cell_type": "code",
   "execution_count": 0,
   "metadata": {
    "application/vnd.databricks.v1+cell": {
     "cellMetadata": {
      "byteLimit": 2048000,
      "rowLimit": 10000
     },
     "inputWidgets": {},
     "nuid": "cdb6725d-1a59-4739-a3eb-8ff469b52a47",
     "showTitle": false,
     "tableResultSettingsMap": {},
     "title": ""
    }
   },
   "outputs": [
    {
     "output_type": "display_data",
     "data": {
      "image/png": "[encoded data removed]"
     },
     "metadata": {
      "application/vnd.databricks.v1+output": {
       "addedWidgets": {},
       "arguments": {},
       "data": "data:image/png;base64,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\n",
       "datasetInfos": [],
       "metadata": {},
       "removedWidgets": [],
       "type": "image"
      }
     },
     "output_type": "display_data"
    }
   ],
   "source": [
    "plt.figure(figsize=(8, 8))\n",
    "labels=data['product_name']\n",
    "values= data['average time delays']\n",
    "plt.pie(\n",
    "    values, labels=labels, \n",
    "    autopct='%.0f%%', startangle=140, \n",
    "    colors = sns.color_palette(\"viridis\", len(labels)),\n",
    "    wedgeprops={'edgecolor': 'black'}\n",
    ")\n",
    "plt.title(\"Average days of shipment delays\", fontsize=12, fontweight=\"bold\")\n",
    "plt.show()"
   ]
  },
  {
   "cell_type": "code",
   "execution_count": 0,
   "metadata": {
    "application/vnd.databricks.v1+cell": {
     "cellMetadata": {},
     "inputWidgets": {},
     "nuid": "c9a94f30-cf91-4161-beda-23c738c9f518",
     "showTitle": false,
     "tableResultSettingsMap": {},
     "title": ""
    }
   },
   "outputs": [],
   "source": []
  }
 ],
 "metadata": {
  "application/vnd.databricks.v1+notebook": {
   "computePreferences": null,
   "dashboards": [],
   "environmentMetadata": {
    "base_environment": "",
    "client": "1"
   },
   "language": "python",
   "notebookMetadata": {
    "pythonIndentUnit": 4
   },
   "notebookName": "E commere project",
   "widgets": {}
  }
 },
 "nbformat": 4,
 "nbformat_minor": 0
}
